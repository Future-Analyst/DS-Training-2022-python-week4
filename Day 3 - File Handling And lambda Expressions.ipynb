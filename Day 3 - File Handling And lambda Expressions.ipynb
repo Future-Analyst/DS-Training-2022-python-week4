{
 "cells": [
  {
   "cell_type": "markdown",
   "metadata": {},
   "source": [
    "# File Handling"
   ]
  },
  {
   "cell_type": "code",
   "execution_count": 1,
   "metadata": {},
   "outputs": [
    {
     "ename": "FileNotFoundError",
     "evalue": "[Errno 2] No such file or directory: 'my-file.txt'",
     "output_type": "error",
     "traceback": [
      "\u001b[1;31m---------------------------------------------------------------------------\u001b[0m",
      "\u001b[1;31mFileNotFoundError\u001b[0m                         Traceback (most recent call last)",
      "\u001b[1;32m<ipython-input-1-95058930bc38>\u001b[0m in \u001b[0;36m<module>\u001b[1;34m\u001b[0m\n\u001b[1;32m----> 1\u001b[1;33m \u001b[0mfile\u001b[0m \u001b[1;33m=\u001b[0m \u001b[0mopen\u001b[0m\u001b[1;33m(\u001b[0m\u001b[1;34m\"my-file.txt\"\u001b[0m\u001b[1;33m)\u001b[0m\u001b[1;33m\u001b[0m\u001b[1;33m\u001b[0m\u001b[0m\n\u001b[0m",
      "\u001b[1;31mFileNotFoundError\u001b[0m: [Errno 2] No such file or directory: 'my-file.txt'"
     ]
    }
   ],
   "source": [
    "file = open(\"my-file.txt\")"
   ]
  },
  {
   "cell_type": "code",
   "execution_count": 2,
   "metadata": {},
   "outputs": [
    {
     "name": "stdout",
     "output_type": "stream",
     "text": [
      "No such File exists!\n"
     ]
    }
   ],
   "source": [
    "try:\n",
    "    file = open(\"my-file.txt\")\n",
    "except FileNotFoundError:\n",
    "    print(\"No such File exists!\")"
   ]
  },
  {
   "cell_type": "code",
   "execution_count": 3,
   "metadata": {},
   "outputs": [],
   "source": [
    "try:\n",
    "    file = open(\"my-file.txt\")\n",
    "except FileNotFoundError:\n",
    "    file = open(\"my-file.txt\",mode=\"w\")"
   ]
  },
  {
   "cell_type": "code",
   "execution_count": 5,
   "metadata": {},
   "outputs": [],
   "source": [
    "file = open(\"my-file.txt\",mode=\"w\")\n",
    "file.write(\"This is the first Content\")\n",
    "file.close()"
   ]
  },
  {
   "cell_type": "code",
   "execution_count": 6,
   "metadata": {},
   "outputs": [],
   "source": [
    "file = open(\"my-file.txt\",mode=\"w\")\n",
    "file.write(\"This is the second Content\")\n",
    "file.close()"
   ]
  },
  {
   "cell_type": "code",
   "execution_count": 8,
   "metadata": {},
   "outputs": [],
   "source": [
    "file = open(\"my-file.txt\",mode=\"a\")\n",
    "file.write(\"\\nThis is the third Content\")\n",
    "file.close()"
   ]
  },
  {
   "cell_type": "code",
   "execution_count": 10,
   "metadata": {},
   "outputs": [
    {
     "data": {
      "text/plain": [
       "27"
      ]
     },
     "execution_count": 10,
     "metadata": {},
     "output_type": "execute_result"
    }
   ],
   "source": [
    "file = open(\"my-file2.txt\",mode=\"a\")\n",
    "file.write(\"\\nThis is the second Content\")\n"
   ]
  },
  {
   "cell_type": "code",
   "execution_count": 11,
   "metadata": {},
   "outputs": [
    {
     "name": "stdout",
     "output_type": "stream",
     "text": [
      "<_io.TextIOWrapper name='my-file.txt' mode='r' encoding='cp1252'>\n"
     ]
    }
   ],
   "source": [
    "file=open(\"my-file.txt\")\n",
    "print(file)"
   ]
  },
  {
   "cell_type": "code",
   "execution_count": 12,
   "metadata": {},
   "outputs": [
    {
     "data": {
      "text/plain": [
       "'This is the second ContentThis is the third Content\\nThis is the third Content'"
      ]
     },
     "execution_count": 12,
     "metadata": {},
     "output_type": "execute_result"
    }
   ],
   "source": [
    "file.read()"
   ]
  },
  {
   "cell_type": "code",
   "execution_count": 14,
   "metadata": {},
   "outputs": [
    {
     "data": {
      "text/plain": [
       "[]"
      ]
     },
     "execution_count": 14,
     "metadata": {},
     "output_type": "execute_result"
    }
   ],
   "source": [
    "file.readline()"
   ]
  },
  {
   "cell_type": "code",
   "execution_count": 15,
   "metadata": {},
   "outputs": [
    {
     "name": "stdout",
     "output_type": "stream",
     "text": [
      "This is the second ContentThis is the third Content\n",
      "\n"
     ]
    }
   ],
   "source": [
    "file=open(\"my-file.txt\")\n",
    "print(file.readline())"
   ]
  },
  {
   "cell_type": "code",
   "execution_count": 16,
   "metadata": {},
   "outputs": [
    {
     "name": "stdout",
     "output_type": "stream",
     "text": [
      "['This is the second ContentThis is the third Content\\n', 'This is the third Content']\n"
     ]
    }
   ],
   "source": [
    "file=open(\"my-file.txt\")\n",
    "print(file.readlines())"
   ]
  },
  {
   "cell_type": "code",
   "execution_count": 17,
   "metadata": {},
   "outputs": [
    {
     "name": "stdout",
     "output_type": "stream",
     "text": [
      "This is th\n"
     ]
    }
   ],
   "source": [
    "file=open(\"my-file.txt\")\n",
    "print(file.readline(10))"
   ]
  },
  {
   "cell_type": "code",
   "execution_count": 20,
   "metadata": {},
   "outputs": [
    {
     "name": "stdout",
     "output_type": "stream",
     "text": [
      "77\n"
     ]
    }
   ],
   "source": [
    "file=open(\"my-file.txt\")\n",
    "print(len(file.read()))"
   ]
  },
  {
   "cell_type": "code",
   "execution_count": 21,
   "metadata": {},
   "outputs": [
    {
     "name": "stdout",
     "output_type": "stream",
     "text": [
      "R&D Spend,Administration,Marketing Spend,State,Profit\n",
      "165349.2,136897.8,471784.1,New York,192261.83\n",
      "162597.7,151377.59,443898.53,California,191792.06\n",
      "153441.51,101145.55,407934.54,Florida,191050.39\n",
      "144372.41,118671.85,383199.62,New York,182901.99\n",
      "142107.34,91391.77,366168.42,Florida,166187.94\n",
      "131876.9,99814.71,362861.36,New York,156991.12\n",
      "134615.46,147198.87,127716.82,California,156122.51\n",
      "130298.13,145530.06,323876.68,Florida,155752.6\n",
      "120542.52,148718.95,311613.29,New York,152211.77\n",
      "123334.88,108679.17,304981.62,California,149759.96\n",
      "101913.08,110594.11,229160.95,Florida,146121.95\n",
      "100671.96,91790.61,249744.55,California,144259.4\n",
      "93863.75,127320.38,249839.44,Florida,141585.52\n",
      "91992.39,135495.07,252664.93,California,134307.35\n",
      "119943.24,156547.42,256512.92,Florida,132602.65\n",
      "114523.61,122616.84,261776.23,New York,129917.04\n",
      "78013.11,121597.55,264346.06,California,126992.93\n",
      "94657.16,145077.58,282574.31,New York,125370.37\n",
      "91749.16,114175.79,294919.57,Florida,124266.9\n",
      "86419.7,153514.11,0,New York,122776.86\n",
      "76253.86,113867.3,298664.47,California,118474.03\n",
      "78389.47,153773.43,299737.29,New York,111313.02\n",
      "73994.56,122782.75,303319.26,Florida,110352.25\n",
      "67532.53,105751.03,304768.73,Florida,108733.99\n",
      "77044.01,99281.34,140574.81,New York,108552.04\n",
      "64664.71,139553.16,137962.62,California,107404.34\n",
      "75328.87,144135.98,134050.07,Florida,105733.54\n",
      "72107.6,127864.55,353183.81,New York,105008.31\n",
      "66051.52,182645.56,118148.2,Florida,103282.38\n",
      "65605.48,153032.06,107138.38,New York,101004.64\n",
      "61994.48,115641.28,91131.24,Florida,99937.59\n",
      "61136.38,152701.92,88218.23,New York,97483.56\n",
      "63408.86,129219.61,46085.25,California,97427.84\n",
      "55493.95,103057.49,214634.81,Florida,96778.92\n",
      "46426.07,157693.92,210797.67,California,96712.8\n",
      "46014.02,85047.44,205517.64,New York,96479.51\n",
      "28663.76,127056.21,201126.82,Florida,90708.19\n",
      "44069.95,51283.14,197029.42,California,89949.14\n",
      "20229.59,65947.93,185265.1,New York,81229.06\n",
      "38558.51,82982.09,174999.3,California,81005.76\n",
      "28754.33,118546.05,172795.67,California,78239.91\n",
      "27892.92,84710.77,164470.71,Florida,77798.83\n",
      "23640.93,96189.63,148001.11,California,71498.49\n",
      "15505.73,127382.3,35534.17,New York,69758.98\n",
      "22177.74,154806.14,28334.72,California,65200.33\n",
      "1000.23,124153.04,1903.93,New York,64926.08\n",
      "1315.46,115816.21,297114.46,Florida,49490.75\n",
      "0,135426.92,0,California,42559.73\n",
      "542.05,51743.15,0,New York,35673.41\n",
      "0,116983.8,45173.06,California,14681.4\n",
      "\n"
     ]
    }
   ],
   "source": [
    "file=open(\"50_Startups.csv\")\n",
    "print(file.read())"
   ]
  },
  {
   "cell_type": "code",
   "execution_count": 22,
   "metadata": {},
   "outputs": [
    {
     "name": "stdout",
     "output_type": "stream",
     "text": [
      "['R&D Spend,Administration,Marketing Spend,State,Profit\\n', '165349.2,136897.8,471784.1,New York,192261.83\\n', '162597.7,151377.59,443898.53,California,191792.06\\n', '153441.51,101145.55,407934.54,Florida,191050.39\\n', '144372.41,118671.85,383199.62,New York,182901.99\\n', '142107.34,91391.77,366168.42,Florida,166187.94\\n', '131876.9,99814.71,362861.36,New York,156991.12\\n', '134615.46,147198.87,127716.82,California,156122.51\\n', '130298.13,145530.06,323876.68,Florida,155752.6\\n', '120542.52,148718.95,311613.29,New York,152211.77\\n', '123334.88,108679.17,304981.62,California,149759.96\\n', '101913.08,110594.11,229160.95,Florida,146121.95\\n', '100671.96,91790.61,249744.55,California,144259.4\\n', '93863.75,127320.38,249839.44,Florida,141585.52\\n', '91992.39,135495.07,252664.93,California,134307.35\\n', '119943.24,156547.42,256512.92,Florida,132602.65\\n', '114523.61,122616.84,261776.23,New York,129917.04\\n', '78013.11,121597.55,264346.06,California,126992.93\\n', '94657.16,145077.58,282574.31,New York,125370.37\\n', '91749.16,114175.79,294919.57,Florida,124266.9\\n', '86419.7,153514.11,0,New York,122776.86\\n', '76253.86,113867.3,298664.47,California,118474.03\\n', '78389.47,153773.43,299737.29,New York,111313.02\\n', '73994.56,122782.75,303319.26,Florida,110352.25\\n', '67532.53,105751.03,304768.73,Florida,108733.99\\n', '77044.01,99281.34,140574.81,New York,108552.04\\n', '64664.71,139553.16,137962.62,California,107404.34\\n', '75328.87,144135.98,134050.07,Florida,105733.54\\n', '72107.6,127864.55,353183.81,New York,105008.31\\n', '66051.52,182645.56,118148.2,Florida,103282.38\\n', '65605.48,153032.06,107138.38,New York,101004.64\\n', '61994.48,115641.28,91131.24,Florida,99937.59\\n', '61136.38,152701.92,88218.23,New York,97483.56\\n', '63408.86,129219.61,46085.25,California,97427.84\\n', '55493.95,103057.49,214634.81,Florida,96778.92\\n', '46426.07,157693.92,210797.67,California,96712.8\\n', '46014.02,85047.44,205517.64,New York,96479.51\\n', '28663.76,127056.21,201126.82,Florida,90708.19\\n', '44069.95,51283.14,197029.42,California,89949.14\\n', '20229.59,65947.93,185265.1,New York,81229.06\\n', '38558.51,82982.09,174999.3,California,81005.76\\n', '28754.33,118546.05,172795.67,California,78239.91\\n', '27892.92,84710.77,164470.71,Florida,77798.83\\n', '23640.93,96189.63,148001.11,California,71498.49\\n', '15505.73,127382.3,35534.17,New York,69758.98\\n', '22177.74,154806.14,28334.72,California,65200.33\\n', '1000.23,124153.04,1903.93,New York,64926.08\\n', '1315.46,115816.21,297114.46,Florida,49490.75\\n', '0,135426.92,0,California,42559.73\\n', '542.05,51743.15,0,New York,35673.41\\n', '0,116983.8,45173.06,California,14681.4\\n']\n"
     ]
    }
   ],
   "source": [
    "file=open(\"50_Startups.csv\")\n",
    "content=file.readlines()\n",
    "print(content)"
   ]
  },
  {
   "cell_type": "code",
   "execution_count": 23,
   "metadata": {},
   "outputs": [
    {
     "data": {
      "text/plain": [
       "'R&D Spend,Administration,Marketing Spend,State,Profit\\n'"
      ]
     },
     "execution_count": 23,
     "metadata": {},
     "output_type": "execute_result"
    }
   ],
   "source": [
    "content[0]"
   ]
  },
  {
   "cell_type": "code",
   "execution_count": 25,
   "metadata": {},
   "outputs": [
    {
     "data": {
      "text/plain": [
       "['R&D Spend', 'Administration', 'Marketing Spend', 'State', 'Profit\\n']"
      ]
     },
     "execution_count": 25,
     "metadata": {},
     "output_type": "execute_result"
    }
   ],
   "source": [
    "content[0].split(\",\")"
   ]
  },
  {
   "cell_type": "code",
   "execution_count": 26,
   "metadata": {},
   "outputs": [
    {
     "data": {
      "text/plain": [
       "'State'"
      ]
     },
     "execution_count": 26,
     "metadata": {},
     "output_type": "execute_result"
    }
   ],
   "source": [
    "content[0].split(\",\")[3]"
   ]
  },
  {
   "cell_type": "code",
   "execution_count": 27,
   "metadata": {},
   "outputs": [
    {
     "name": "stdout",
     "output_type": "stream",
     "text": [
      "State\n",
      "New York\n",
      "California\n",
      "Florida\n",
      "New York\n",
      "Florida\n",
      "New York\n",
      "California\n",
      "Florida\n",
      "New York\n",
      "California\n",
      "Florida\n",
      "California\n",
      "Florida\n",
      "California\n",
      "Florida\n",
      "New York\n",
      "California\n",
      "New York\n",
      "Florida\n",
      "New York\n",
      "California\n",
      "New York\n",
      "Florida\n",
      "Florida\n",
      "New York\n",
      "California\n",
      "Florida\n",
      "New York\n",
      "Florida\n",
      "New York\n",
      "Florida\n",
      "New York\n",
      "California\n",
      "Florida\n",
      "California\n",
      "New York\n",
      "Florida\n",
      "California\n",
      "New York\n",
      "California\n",
      "California\n",
      "Florida\n",
      "California\n",
      "New York\n",
      "California\n",
      "New York\n",
      "Florida\n",
      "California\n",
      "New York\n",
      "California\n"
     ]
    }
   ],
   "source": [
    "\n",
    "for line in content:\n",
    "    print(line.split(\",\")[3])"
   ]
  },
  {
   "cell_type": "code",
   "execution_count": 28,
   "metadata": {},
   "outputs": [
    {
     "name": "stdout",
     "output_type": "stream",
     "text": [
      "{'R&D': ['165349.2', '162597.7', '153441.51', '144372.41', '142107.34', '131876.9', '134615.46', '130298.13', '120542.52', '123334.88', '101913.08', '100671.96', '93863.75', '91992.39', '119943.24', '114523.61', '78013.11', '94657.16', '91749.16', '86419.7', '76253.86', '78389.47', '73994.56', '67532.53', '77044.01', '64664.71', '75328.87', '72107.6', '66051.52', '65605.48', '61994.48', '61136.38', '63408.86', '55493.95', '46426.07', '46014.02', '28663.76', '44069.95', '20229.59', '38558.51', '28754.33', '27892.92', '23640.93', '15505.73', '22177.74', '1000.23', '1315.46', '0', '542.05', '0'], 'Admin': ['136897.8', '151377.59', '101145.55', '118671.85', '91391.77', '99814.71', '147198.87', '145530.06', '148718.95', '108679.17', '110594.11', '91790.61', '127320.38', '135495.07', '156547.42', '122616.84', '121597.55', '145077.58', '114175.79', '153514.11', '113867.3', '153773.43', '122782.75', '105751.03', '99281.34', '139553.16', '144135.98', '127864.55', '182645.56', '153032.06', '115641.28', '152701.92', '129219.61', '103057.49', '157693.92', '85047.44', '127056.21', '51283.14', '65947.93', '82982.09', '118546.05', '84710.77', '96189.63', '127382.3', '154806.14', '124153.04', '115816.21', '135426.92', '51743.15', '116983.8'], 'Market': ['471784.1', '443898.53', '407934.54', '383199.62', '366168.42', '362861.36', '127716.82', '323876.68', '311613.29', '304981.62', '229160.95', '249744.55', '249839.44', '252664.93', '256512.92', '261776.23', '264346.06', '282574.31', '294919.57', '0', '298664.47', '299737.29', '303319.26', '304768.73', '140574.81', '137962.62', '134050.07', '353183.81', '118148.2', '107138.38', '91131.24', '88218.23', '46085.25', '214634.81', '210797.67', '205517.64', '201126.82', '197029.42', '185265.1', '174999.3', '172795.67', '164470.71', '148001.11', '35534.17', '28334.72', '1903.93', '297114.46', '0', '0', '45173.06'], 'State': ['New York', 'California', 'Florida', 'New York', 'Florida', 'New York', 'California', 'Florida', 'New York', 'California', 'Florida', 'California', 'Florida', 'California', 'Florida', 'New York', 'California', 'New York', 'Florida', 'New York', 'California', 'New York', 'Florida', 'Florida', 'New York', 'California', 'Florida', 'New York', 'Florida', 'New York', 'Florida', 'New York', 'California', 'Florida', 'California', 'New York', 'Florida', 'California', 'New York', 'California', 'California', 'Florida', 'California', 'New York', 'California', 'New York', 'Florida', 'California', 'New York', 'California'], 'Profit': ['192261.83\\n', '191792.06\\n', '191050.39\\n', '182901.99\\n', '166187.94\\n', '156991.12\\n', '156122.51\\n', '155752.6\\n', '152211.77\\n', '149759.96\\n', '146121.95\\n', '144259.4\\n', '141585.52\\n', '134307.35\\n', '132602.65\\n', '129917.04\\n', '126992.93\\n', '125370.37\\n', '124266.9\\n', '122776.86\\n', '118474.03\\n', '111313.02\\n', '110352.25\\n', '108733.99\\n', '108552.04\\n', '107404.34\\n', '105733.54\\n', '105008.31\\n', '103282.38\\n', '101004.64\\n', '99937.59\\n', '97483.56\\n', '97427.84\\n', '96778.92\\n', '96712.8\\n', '96479.51\\n', '90708.19\\n', '89949.14\\n', '81229.06\\n', '81005.76\\n', '78239.91\\n', '77798.83\\n', '71498.49\\n', '69758.98\\n', '65200.33\\n', '64926.08\\n', '49490.75\\n', '42559.73\\n', '35673.41\\n', '14681.4\\n']}\n"
     ]
    }
   ],
   "source": [
    "data={\n",
    "    \"R&D\":[],\n",
    "    \"Admin\":[],\n",
    "    \"Market\":[],\n",
    "    \"State\":[],\n",
    "    \"Profit\":[]\n",
    "    \n",
    "}\n",
    "for line in content[1:]:\n",
    "    splitted=line.split(\",\")\n",
    "    data[\"R&D\"].append(splitted[0])\n",
    "    data[\"Admin\"].append(splitted[1])\n",
    "    data[\"Market\"].append(splitted[2])\n",
    "    data[\"State\"].append(splitted[3])\n",
    "    data[\"Profit\"].append(splitted[4])\n",
    "print(data)"
   ]
  },
  {
   "cell_type": "code",
   "execution_count": 29,
   "metadata": {},
   "outputs": [
    {
     "data": {
      "text/plain": [
       "['471784.1',\n",
       " '443898.53',\n",
       " '407934.54',\n",
       " '383199.62',\n",
       " '366168.42',\n",
       " '362861.36',\n",
       " '127716.82',\n",
       " '323876.68',\n",
       " '311613.29',\n",
       " '304981.62',\n",
       " '229160.95',\n",
       " '249744.55',\n",
       " '249839.44',\n",
       " '252664.93',\n",
       " '256512.92',\n",
       " '261776.23',\n",
       " '264346.06',\n",
       " '282574.31',\n",
       " '294919.57',\n",
       " '0',\n",
       " '298664.47',\n",
       " '299737.29',\n",
       " '303319.26',\n",
       " '304768.73',\n",
       " '140574.81',\n",
       " '137962.62',\n",
       " '134050.07',\n",
       " '353183.81',\n",
       " '118148.2',\n",
       " '107138.38',\n",
       " '91131.24',\n",
       " '88218.23',\n",
       " '46085.25',\n",
       " '214634.81',\n",
       " '210797.67',\n",
       " '205517.64',\n",
       " '201126.82',\n",
       " '197029.42',\n",
       " '185265.1',\n",
       " '174999.3',\n",
       " '172795.67',\n",
       " '164470.71',\n",
       " '148001.11',\n",
       " '35534.17',\n",
       " '28334.72',\n",
       " '1903.93',\n",
       " '297114.46',\n",
       " '0',\n",
       " '0',\n",
       " '45173.06']"
      ]
     },
     "execution_count": 29,
     "metadata": {},
     "output_type": "execute_result"
    }
   ],
   "source": [
    "data[\"Market\"]"
   ]
  },
  {
   "cell_type": "code",
   "execution_count": 30,
   "metadata": {},
   "outputs": [
    {
     "data": {
      "text/plain": [
       "['192261.83\\n',\n",
       " '191792.06\\n',\n",
       " '191050.39\\n',\n",
       " '182901.99\\n',\n",
       " '166187.94\\n',\n",
       " '156991.12\\n',\n",
       " '156122.51\\n',\n",
       " '155752.6\\n',\n",
       " '152211.77\\n',\n",
       " '149759.96\\n',\n",
       " '146121.95\\n',\n",
       " '144259.4\\n',\n",
       " '141585.52\\n',\n",
       " '134307.35\\n',\n",
       " '132602.65\\n',\n",
       " '129917.04\\n',\n",
       " '126992.93\\n',\n",
       " '125370.37\\n',\n",
       " '124266.9\\n',\n",
       " '122776.86\\n',\n",
       " '118474.03\\n',\n",
       " '111313.02\\n',\n",
       " '110352.25\\n',\n",
       " '108733.99\\n',\n",
       " '108552.04\\n',\n",
       " '107404.34\\n',\n",
       " '105733.54\\n',\n",
       " '105008.31\\n',\n",
       " '103282.38\\n',\n",
       " '101004.64\\n',\n",
       " '99937.59\\n',\n",
       " '97483.56\\n',\n",
       " '97427.84\\n',\n",
       " '96778.92\\n',\n",
       " '96712.8\\n',\n",
       " '96479.51\\n',\n",
       " '90708.19\\n',\n",
       " '89949.14\\n',\n",
       " '81229.06\\n',\n",
       " '81005.76\\n',\n",
       " '78239.91\\n',\n",
       " '77798.83\\n',\n",
       " '71498.49\\n',\n",
       " '69758.98\\n',\n",
       " '65200.33\\n',\n",
       " '64926.08\\n',\n",
       " '49490.75\\n',\n",
       " '42559.73\\n',\n",
       " '35673.41\\n',\n",
       " '14681.4\\n']"
      ]
     },
     "execution_count": 30,
     "metadata": {},
     "output_type": "execute_result"
    }
   ],
   "source": [
    "data[\"Profit\"]"
   ]
  },
  {
   "cell_type": "code",
   "execution_count": null,
   "metadata": {},
   "outputs": [],
   "source": [
    "file=open(\"50_Startups.csv\")\n",
    "content=file.readlines()\n",
    "data={\n",
    "    \"R&D\":[],\n",
    "    \"Admin\":[],\n",
    "    \"Market\":[],\n",
    "    \"State\":[],\n",
    "    \"Profit\":[]\n",
    "    \n",
    "}\n",
    "for line in content[1:]:\n",
    "    splitted=line.split(\",\")\n",
    "    data[\"R&D\"].append(splitted[0])\n",
    "    data[\"Admin\"].append(splitted[1])\n",
    "    data[\"Market\"].append(splitted[2])\n",
    "    data[\"State\"].append(splitted[3])\n",
    "    data[\"Profit\"].append(splitted[4])\n",
    "print(data)"
   ]
  },
  {
   "cell_type": "code",
   "execution_count": 31,
   "metadata": {},
   "outputs": [
    {
     "name": "stdout",
     "output_type": "stream",
     "text": [
      "192261.83\n",
      "\n",
      "191792.06\n",
      "\n",
      "191050.39\n",
      "\n",
      "182901.99\n",
      "\n",
      "166187.94\n",
      "\n",
      "156991.12\n",
      "\n",
      "156122.51\n",
      "\n",
      "155752.6\n",
      "\n",
      "152211.77\n",
      "\n",
      "149759.96\n",
      "\n",
      "146121.95\n",
      "\n",
      "144259.4\n",
      "\n",
      "141585.52\n",
      "\n",
      "134307.35\n",
      "\n",
      "132602.65\n",
      "\n",
      "129917.04\n",
      "\n",
      "126992.93\n",
      "\n",
      "125370.37\n",
      "\n",
      "124266.9\n",
      "\n",
      "122776.86\n",
      "\n",
      "118474.03\n",
      "\n",
      "111313.02\n",
      "\n",
      "110352.25\n",
      "\n",
      "108733.99\n",
      "\n",
      "108552.04\n",
      "\n",
      "107404.34\n",
      "\n",
      "105733.54\n",
      "\n",
      "105008.31\n",
      "\n",
      "103282.38\n",
      "\n",
      "101004.64\n",
      "\n",
      "99937.59\n",
      "\n",
      "97483.56\n",
      "\n",
      "97427.84\n",
      "\n",
      "96778.92\n",
      "\n",
      "96712.8\n",
      "\n",
      "96479.51\n",
      "\n",
      "90708.19\n",
      "\n",
      "89949.14\n",
      "\n",
      "81229.06\n",
      "\n",
      "81005.76\n",
      "\n",
      "78239.91\n",
      "\n",
      "77798.83\n",
      "\n",
      "71498.49\n",
      "\n",
      "69758.98\n",
      "\n",
      "65200.33\n",
      "\n",
      "64926.08\n",
      "\n",
      "49490.75\n",
      "\n",
      "42559.73\n",
      "\n",
      "35673.41\n",
      "\n",
      "14681.4\n",
      "\n"
     ]
    }
   ],
   "source": [
    "file=open(\"50_Startups.csv\")\n",
    "content=file.readlines()\n",
    "for line in content[1:]:\n",
    "    profit_=line.split(\",\")[-1]\n",
    "    print(profit)"
   ]
  },
  {
   "cell_type": "code",
   "execution_count": 37,
   "metadata": {},
   "outputs": [
    {
     "ename": "TypeError",
     "evalue": "'float' object is not iterable",
     "output_type": "error",
     "traceback": [
      "\u001b[1;31m---------------------------------------------------------------------------\u001b[0m",
      "\u001b[1;31mTypeError\u001b[0m                                 Traceback (most recent call last)",
      "\u001b[1;32m<ipython-input-37-2c7748e0860d>\u001b[0m in \u001b[0;36m<module>\u001b[1;34m\u001b[0m\n\u001b[0;32m      5\u001b[0m     \u001b[0mprofit_raw\u001b[0m\u001b[1;33m=\u001b[0m\u001b[0mline\u001b[0m\u001b[1;33m.\u001b[0m\u001b[0msplit\u001b[0m\u001b[1;33m(\u001b[0m\u001b[1;34m\",\"\u001b[0m\u001b[1;33m)\u001b[0m\u001b[1;33m[\u001b[0m\u001b[1;33m-\u001b[0m\u001b[1;36m1\u001b[0m\u001b[1;33m]\u001b[0m\u001b[1;33m\u001b[0m\u001b[1;33m\u001b[0m\u001b[0m\n\u001b[0;32m      6\u001b[0m     \u001b[0mprofit\u001b[0m\u001b[1;33m=\u001b[0m\u001b[0mfloat\u001b[0m\u001b[1;33m(\u001b[0m\u001b[0mprofit_raw\u001b[0m\u001b[1;33m.\u001b[0m\u001b[0mstrip\u001b[0m\u001b[1;33m(\u001b[0m\u001b[1;33m)\u001b[0m\u001b[1;33m)\u001b[0m\u001b[1;33m\u001b[0m\u001b[1;33m\u001b[0m\u001b[0m\n\u001b[1;32m----> 7\u001b[1;33m     \u001b[0mprofits\u001b[0m\u001b[1;33m=\u001b[0m\u001b[0mlist\u001b[0m\u001b[1;33m(\u001b[0m\u001b[0mprofit\u001b[0m\u001b[1;33m)\u001b[0m\u001b[1;33m\u001b[0m\u001b[1;33m\u001b[0m\u001b[0m\n\u001b[0m\u001b[0;32m      8\u001b[0m     \u001b[0mprint\u001b[0m\u001b[1;33m(\u001b[0m\u001b[0mprofit\u001b[0m\u001b[1;33m)\u001b[0m\u001b[1;33m\u001b[0m\u001b[1;33m\u001b[0m\u001b[0m\n\u001b[0;32m      9\u001b[0m \u001b[0mprint\u001b[0m\u001b[1;33m(\u001b[0m\u001b[0mprofits\u001b[0m\u001b[1;33m)\u001b[0m\u001b[1;33m\u001b[0m\u001b[1;33m\u001b[0m\u001b[0m\n",
      "\u001b[1;31mTypeError\u001b[0m: 'float' object is not iterable"
     ]
    }
   ],
   "source": [
    "file=open(\"50_Startups.csv\")\n",
    "content=file.readlines()\n",
    "for line in content[1:]:\n",
    "    \n",
    "    profit_raw=line.split(\",\")[-1]\n",
    "    profit=float(profit_raw.strip())\n",
    "    profits=list(profit)\n",
    "    print(profit)\n",
    "print(profits)"
   ]
  },
  {
   "cell_type": "code",
   "execution_count": 42,
   "metadata": {},
   "outputs": [
    {
     "name": "stdout",
     "output_type": "stream",
     "text": [
      "5600631.960000001\n"
     ]
    }
   ],
   "source": [
    "file=open(\"50_Startups.csv\")\n",
    "content=file.readlines()\n",
    "profits=[]\n",
    "for line in content[1:]:\n",
    "    \n",
    "    profit_raw=line.split(\",\")[-1]\n",
    "    profit=profits.append(float(profit_raw.strip()))\n",
    "    \n",
    "#     print(profit)\n",
    "print(sum(profits))\n",
    "del profits"
   ]
  },
  {
   "cell_type": "code",
   "execution_count": 40,
   "metadata": {},
   "outputs": [
    {
     "name": "stdout",
     "output_type": "stream",
     "text": [
      "5600631.960000001\n"
     ]
    }
   ],
   "source": [
    "file=open(\"50_Startups.csv\")\n",
    "content=file.readlines()\n",
    "total_profit=0\n",
    "for line in content[1:]:\n",
    "    \n",
    "    profit_raw=line.split(\",\")[-1]\n",
    "    total_profit +=float(profit_raw.strip())\n",
    "    \n",
    "#     print(profit)\n",
    "print(total_profit)"
   ]
  },
  {
   "cell_type": "code",
   "execution_count": 43,
   "metadata": {},
   "outputs": [
    {
     "ename": "NameError",
     "evalue": "name 'profits' is not defined",
     "output_type": "error",
     "traceback": [
      "\u001b[1;31m---------------------------------------------------------------------------\u001b[0m",
      "\u001b[1;31mNameError\u001b[0m                                 Traceback (most recent call last)",
      "\u001b[1;32m<ipython-input-43-ca9a589fedab>\u001b[0m in \u001b[0;36m<module>\u001b[1;34m\u001b[0m\n\u001b[1;32m----> 1\u001b[1;33m \u001b[0mprofits\u001b[0m\u001b[1;33m\u001b[0m\u001b[1;33m\u001b[0m\u001b[0m\n\u001b[0m",
      "\u001b[1;31mNameError\u001b[0m: name 'profits' is not defined"
     ]
    }
   ],
   "source": [
    "profits"
   ]
  },
  {
   "cell_type": "markdown",
   "metadata": {},
   "source": [
    "# Lambda Functions"
   ]
  },
  {
   "cell_type": "code",
   "execution_count": 44,
   "metadata": {},
   "outputs": [],
   "source": [
    "def func(age):\n",
    "    return 2022-age"
   ]
  },
  {
   "cell_type": "code",
   "execution_count": 45,
   "metadata": {},
   "outputs": [
    {
     "data": {
      "text/plain": [
       "1999"
      ]
     },
     "execution_count": 45,
     "metadata": {},
     "output_type": "execute_result"
    }
   ],
   "source": [
    "func(23)"
   ]
  },
  {
   "cell_type": "code",
   "execution_count": 46,
   "metadata": {},
   "outputs": [],
   "source": [
    "def func1(age):return 2022-age"
   ]
  },
  {
   "cell_type": "code",
   "execution_count": 47,
   "metadata": {},
   "outputs": [
    {
     "data": {
      "text/plain": [
       "1988"
      ]
     },
     "execution_count": 47,
     "metadata": {},
     "output_type": "execute_result"
    }
   ],
   "source": [
    "func1(34)"
   ]
  },
  {
   "cell_type": "code",
   "execution_count": 49,
   "metadata": {},
   "outputs": [
    {
     "data": {
      "text/plain": [
       "1984"
      ]
     },
     "execution_count": 49,
     "metadata": {},
     "output_type": "execute_result"
    }
   ],
   "source": [
    "(lambda age:2022-age)(38)"
   ]
  },
  {
   "cell_type": "code",
   "execution_count": 50,
   "metadata": {},
   "outputs": [
    {
     "data": {
      "text/plain": [
       "<function __main__.func(age)>"
      ]
     },
     "execution_count": 50,
     "metadata": {},
     "output_type": "execute_result"
    }
   ],
   "source": [
    "func"
   ]
  },
  {
   "cell_type": "code",
   "execution_count": 51,
   "metadata": {},
   "outputs": [],
   "source": [
    "d_funct=lambda age:2022-age"
   ]
  },
  {
   "cell_type": "code",
   "execution_count": 52,
   "metadata": {},
   "outputs": [
    {
     "data": {
      "text/plain": [
       "<function __main__.<lambda>(age)>"
      ]
     },
     "execution_count": 52,
     "metadata": {},
     "output_type": "execute_result"
    }
   ],
   "source": [
    "d_funct"
   ]
  },
  {
   "cell_type": "code",
   "execution_count": 57,
   "metadata": {},
   "outputs": [
    {
     "data": {
      "text/plain": [
       "1984"
      ]
     },
     "execution_count": 57,
     "metadata": {},
     "output_type": "execute_result"
    }
   ],
   "source": [
    "d_funct(38)"
   ]
  },
  {
   "cell_type": "code",
   "execution_count": 54,
   "metadata": {},
   "outputs": [],
   "source": [
    "dd=(lambda age:2022-age)(38)"
   ]
  },
  {
   "cell_type": "code",
   "execution_count": 55,
   "metadata": {},
   "outputs": [
    {
     "data": {
      "text/plain": [
       "1984"
      ]
     },
     "execution_count": 55,
     "metadata": {},
     "output_type": "execute_result"
    }
   ],
   "source": [
    "dd"
   ]
  },
  {
   "cell_type": "code",
   "execution_count": 58,
   "metadata": {},
   "outputs": [],
   "source": [
    "g=lambda x,y:x+y"
   ]
  },
  {
   "cell_type": "code",
   "execution_count": 59,
   "metadata": {},
   "outputs": [
    {
     "data": {
      "text/plain": [
       "9"
      ]
     },
     "execution_count": 59,
     "metadata": {},
     "output_type": "execute_result"
    }
   ],
   "source": [
    "g(4,5)"
   ]
  },
  {
   "cell_type": "code",
   "execution_count": 60,
   "metadata": {},
   "outputs": [
    {
     "data": {
      "text/plain": [
       "10"
      ]
     },
     "execution_count": 60,
     "metadata": {},
     "output_type": "execute_result"
    }
   ],
   "source": [
    "(lambda x,y:x+y)(4,6)"
   ]
  },
  {
   "cell_type": "code",
   "execution_count": 61,
   "metadata": {},
   "outputs": [],
   "source": [
    "def startsWithAlimi(name):\n",
    "    if name.startswith(\"Alimi\"):\n",
    "        return True\n",
    "    else:\n",
    "        return False"
   ]
  },
  {
   "cell_type": "code",
   "execution_count": 62,
   "metadata": {},
   "outputs": [
    {
     "data": {
      "text/plain": [
       "False"
      ]
     },
     "execution_count": 62,
     "metadata": {},
     "output_type": "execute_result"
    }
   ],
   "source": [
    "startsWithAlimi(\"George, Smith\")"
   ]
  },
  {
   "cell_type": "code",
   "execution_count": 63,
   "metadata": {},
   "outputs": [
    {
     "data": {
      "text/plain": [
       "True"
      ]
     },
     "execution_count": 63,
     "metadata": {},
     "output_type": "execute_result"
    }
   ],
   "source": [
    "startsWithAlimi(\"Alimi, Jumbo\")"
   ]
  },
  {
   "cell_type": "code",
   "execution_count": 64,
   "metadata": {},
   "outputs": [],
   "source": [
    "def startsWithAlimi(name):\n",
    "    if name.startswith(\"Alimi\"):\n",
    "        return True\n",
    "    return False"
   ]
  },
  {
   "cell_type": "code",
   "execution_count": 65,
   "metadata": {},
   "outputs": [
    {
     "data": {
      "text/plain": [
       "True"
      ]
     },
     "execution_count": 65,
     "metadata": {},
     "output_type": "execute_result"
    }
   ],
   "source": [
    "startsWithAlimi(\"Alimi, Jumbo\")"
   ]
  },
  {
   "cell_type": "code",
   "execution_count": 66,
   "metadata": {},
   "outputs": [],
   "source": [
    "def startsWithAlimi(name):\n",
    "    return True if name.startswith(\"Alimi\") else False\n",
    "   "
   ]
  },
  {
   "cell_type": "code",
   "execution_count": 67,
   "metadata": {},
   "outputs": [
    {
     "data": {
      "text/plain": [
       "True"
      ]
     },
     "execution_count": 67,
     "metadata": {},
     "output_type": "execute_result"
    }
   ],
   "source": [
    "startsWithAlimi(\"Alimi, Jumbo\")"
   ]
  },
  {
   "cell_type": "code",
   "execution_count": null,
   "metadata": {},
   "outputs": [],
   "source": [
    "def startsWithAlimi(name):return True if name.startswith(\"Alimi\") else False\n",
    "   "
   ]
  },
  {
   "cell_type": "code",
   "execution_count": 68,
   "metadata": {},
   "outputs": [
    {
     "data": {
      "text/plain": [
       "True"
      ]
     },
     "execution_count": 68,
     "metadata": {},
     "output_type": "execute_result"
    }
   ],
   "source": [
    "(lambda name: True if name.startswith(\"Alimi\") else False)(\"Alimi\")"
   ]
  },
  {
   "cell_type": "code",
   "execution_count": null,
   "metadata": {},
   "outputs": [],
   "source": []
  }
 ],
 "metadata": {
  "kernelspec": {
   "display_name": "Python 3 (ipykernel)",
   "language": "python",
   "name": "python3"
  },
  "language_info": {
   "codemirror_mode": {
    "name": "ipython",
    "version": 3
   },
   "file_extension": ".py",
   "mimetype": "text/x-python",
   "name": "python",
   "nbconvert_exporter": "python",
   "pygments_lexer": "ipython3",
   "version": "3.9.12"
  }
 },
 "nbformat": 4,
 "nbformat_minor": 2
}
